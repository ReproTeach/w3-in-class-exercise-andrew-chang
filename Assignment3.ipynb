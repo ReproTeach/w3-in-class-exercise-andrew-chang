{
 "cells": [
  {
   "cell_type": "code",
   "execution_count": 13,
   "id": "312c1f4d-d57c-4420-89ea-a9474ded6498",
   "metadata": {
    "tags": []
   },
   "outputs": [
    {
     "data": {
      "text/plain": [
       "(35, 11)"
      ]
     },
     "execution_count": 13,
     "metadata": {},
     "output_type": "execute_result"
    }
   ],
   "source": [
    "#1. Read the data\n",
    "import pandas as pd\n",
    "df = pd.read_csv(\"pre-course_survey.csv\")\n",
    "df.shape"
   ]
  },
  {
   "cell_type": "code",
   "execution_count": 14,
   "id": "df05698b-ef2e-4fa6-aea9-acb7dbd4e82e",
   "metadata": {
    "tags": []
   },
   "outputs": [],
   "source": [
    "#2. Rename the columns (Tuesday's lecture/in-class exercise)\n",
    "df.rename(columns={'old_name': 'new_name'}, inplace=True)"
   ]
  },
  {
   "cell_type": "code",
   "execution_count": null,
   "id": "e1bcef69-42b0-494e-b157-9b2f508e376a",
   "metadata": {},
   "outputs": [],
   "source": [
    "def process_data(filename):\n",
    "    # read your data\n",
    "    df = pd.read_csv(\"pre-course_survey.csv\")\n",
    "    # rename the columns\n",
    "    df.rename(columns={'old_name': 'new_name'}, inplace=True)\n",
    "    # drop nan\n",
    "    df.dropna()\n",
    "    # drop duplicates\n",
    "    df.drop_duplicates()\n",
    "    # recode yes/no to 1/0\n",
    "    df.rename(values={\n",
    "    return df"
   ]
  }
 ],
 "metadata": {
  "kernelspec": {
   "display_name": "Python 3 (ipykernel)",
   "language": "python",
   "name": "python3"
  },
  "language_info": {
   "codemirror_mode": {
    "name": "ipython",
    "version": 3
   },
   "file_extension": ".py",
   "mimetype": "text/x-python",
   "name": "python",
   "nbconvert_exporter": "python",
   "pygments_lexer": "ipython3",
   "version": "3.10.9"
  }
 },
 "nbformat": 4,
 "nbformat_minor": 5
}
